{
  "nbformat": 4,
  "nbformat_minor": 0,
  "metadata": {
    "colab": {
      "name": "Task 1: IBM Attrition.ipynb",
      "provenance": [],
      "include_colab_link": true
    },
    "kernelspec": {
      "name": "python3",
      "display_name": "Python 3"
    }
  },
  "cells": [
    {
      "cell_type": "markdown",
      "metadata": {
        "id": "view-in-github",
        "colab_type": "text"
      },
      "source": [
        "<a href=\"https://colab.research.google.com/github/shivckr/IBM_attrition-rate/blob/master/Task_1_IBM_Attrition.ipynb\" target=\"_parent\"><img src=\"https://colab.research.google.com/assets/colab-badge.svg\" alt=\"Open In Colab\"/></a>"
      ]
    },
    {
      "cell_type": "markdown",
      "metadata": {
        "id": "toM757NzUVd6",
        "colab_type": "text"
      },
      "source": [
        "# SECTION D – Deep Learning with NLP"
      ]
    },
    {
      "cell_type": "markdown",
      "metadata": {
        "id": "Hh26ckMrUa4a",
        "colab_type": "text"
      },
      "source": [
        "**Task 1: IBM Attrition**"
      ]
    },
    {
      "cell_type": "code",
      "metadata": {
        "id": "MlGP2dqQWKpk",
        "colab_type": "code",
        "colab": {}
      },
      "source": [
        "#upload data \n",
        "url = 'https://raw.githubusercontent.com/shivckr/border/master/IBMAttrition.csv'"
      ],
      "execution_count": 0,
      "outputs": []
    },
    {
      "cell_type": "code",
      "metadata": {
        "id": "gz271qHHYKr4",
        "colab_type": "code",
        "colab": {}
      },
      "source": [
        "# import packages \n",
        "import numpy as np                                                               # # scientific computing package\n",
        "import pandas as pd                                                              # package to manipulate dataframe\n",
        "import matplotlib.pyplot as plt                                                   # Data visualization\n",
        "%matplotlib inline \n",
        "import seaborn as sns                                                             # Data visualization\n",
        "from sklearn import metrics                                                       # Metrics to evalaute the model\n",
        "\n",
        "#import Keras Models and Layers\n",
        "from tensorflow.python.keras.layers import Dense, Dropout\n",
        "from tensorflow.python.keras.models import Sequential\n",
        "\n",
        "                                                            "
      ],
      "execution_count": 0,
      "outputs": []
    },
    {
      "cell_type": "code",
      "metadata": {
        "id": "azVmyNyiatm4",
        "colab_type": "code",
        "colab": {}
      },
      "source": [
        "# crate dataframe\n",
        "ibm_attrition_data = pd.read_csv(url)\n"
      ],
      "execution_count": 0,
      "outputs": []
    },
    {
      "cell_type": "code",
      "metadata": {
        "id": "7mWNKEQAdVgK",
        "colab_type": "code",
        "outputId": "20394a2d-40d6-4101-cf42-f8c7d6aee12b",
        "colab": {
          "base_uri": "https://localhost:8080/",
          "height": 34
        }
      },
      "source": [
        "# dataset shape\n",
        "ibm_attrition_data.shape"
      ],
      "execution_count": 0,
      "outputs": [
        {
          "output_type": "execute_result",
          "data": {
            "text/plain": [
              "(1470, 35)"
            ]
          },
          "metadata": {
            "tags": []
          },
          "execution_count": 12
        }
      ]
    },
    {
      "cell_type": "code",
      "metadata": {
        "id": "F5p1i2AZbK59",
        "colab_type": "code",
        "outputId": "c09b73a5-0467-4fa8-97ed-b28932fbfe81",
        "colab": {
          "base_uri": "https://localhost:8080/",
          "height": 117
        }
      },
      "source": [
        "# data head\n",
        "ibm_attrition_data.head(1)"
      ],
      "execution_count": 0,
      "outputs": [
        {
          "output_type": "execute_result",
          "data": {
            "text/html": [
              "<div>\n",
              "<style scoped>\n",
              "    .dataframe tbody tr th:only-of-type {\n",
              "        vertical-align: middle;\n",
              "    }\n",
              "\n",
              "    .dataframe tbody tr th {\n",
              "        vertical-align: top;\n",
              "    }\n",
              "\n",
              "    .dataframe thead th {\n",
              "        text-align: right;\n",
              "    }\n",
              "</style>\n",
              "<table border=\"1\" class=\"dataframe\">\n",
              "  <thead>\n",
              "    <tr style=\"text-align: right;\">\n",
              "      <th></th>\n",
              "      <th>Age</th>\n",
              "      <th>Attrition</th>\n",
              "      <th>BusinessTravel</th>\n",
              "      <th>DailyRate</th>\n",
              "      <th>Department</th>\n",
              "      <th>DistanceFromHome</th>\n",
              "      <th>Education</th>\n",
              "      <th>EducationField</th>\n",
              "      <th>EmployeeCount</th>\n",
              "      <th>EmployeeNumber</th>\n",
              "      <th>EnvironmentSatisfaction</th>\n",
              "      <th>Gender</th>\n",
              "      <th>HourlyRate</th>\n",
              "      <th>JobInvolvement</th>\n",
              "      <th>JobLevel</th>\n",
              "      <th>JobRole</th>\n",
              "      <th>JobSatisfaction</th>\n",
              "      <th>MaritalStatus</th>\n",
              "      <th>MonthlyIncome</th>\n",
              "      <th>MonthlyRate</th>\n",
              "      <th>NumCompaniesWorked</th>\n",
              "      <th>Over18</th>\n",
              "      <th>OverTime</th>\n",
              "      <th>PercentSalaryHike</th>\n",
              "      <th>PerformanceRating</th>\n",
              "      <th>RelationshipSatisfaction</th>\n",
              "      <th>StandardHours</th>\n",
              "      <th>StockOptionLevel</th>\n",
              "      <th>TotalWorkingYears</th>\n",
              "      <th>TrainingTimesLastYear</th>\n",
              "      <th>WorkLifeBalance</th>\n",
              "      <th>YearsAtCompany</th>\n",
              "      <th>YearsInCurrentRole</th>\n",
              "      <th>YearsSinceLastPromotion</th>\n",
              "      <th>YearsWithCurrManager</th>\n",
              "    </tr>\n",
              "  </thead>\n",
              "  <tbody>\n",
              "    <tr>\n",
              "      <th>0</th>\n",
              "      <td>41</td>\n",
              "      <td>Yes</td>\n",
              "      <td>Travel_Rarely</td>\n",
              "      <td>1102</td>\n",
              "      <td>Sales</td>\n",
              "      <td>1</td>\n",
              "      <td>2</td>\n",
              "      <td>Life Sciences</td>\n",
              "      <td>1</td>\n",
              "      <td>1</td>\n",
              "      <td>2</td>\n",
              "      <td>Female</td>\n",
              "      <td>94</td>\n",
              "      <td>3</td>\n",
              "      <td>2</td>\n",
              "      <td>Sales Executive</td>\n",
              "      <td>4</td>\n",
              "      <td>Single</td>\n",
              "      <td>5993</td>\n",
              "      <td>19479</td>\n",
              "      <td>8</td>\n",
              "      <td>Y</td>\n",
              "      <td>Yes</td>\n",
              "      <td>11</td>\n",
              "      <td>3</td>\n",
              "      <td>1</td>\n",
              "      <td>80</td>\n",
              "      <td>0</td>\n",
              "      <td>8</td>\n",
              "      <td>0</td>\n",
              "      <td>1</td>\n",
              "      <td>6</td>\n",
              "      <td>4</td>\n",
              "      <td>0</td>\n",
              "      <td>5</td>\n",
              "    </tr>\n",
              "  </tbody>\n",
              "</table>\n",
              "</div>"
            ],
            "text/plain": [
              "   Age Attrition  ... YearsSinceLastPromotion  YearsWithCurrManager\n",
              "0   41       Yes  ...                       0                     5\n",
              "\n",
              "[1 rows x 35 columns]"
            ]
          },
          "metadata": {
            "tags": []
          },
          "execution_count": 24
        }
      ]
    },
    {
      "cell_type": "code",
      "metadata": {
        "id": "uqrxtXMRbdw0",
        "colab_type": "code",
        "colab": {}
      },
      "source": [
        "#data statistic\n",
        "ibm_attrition_data.describe()"
      ],
      "execution_count": 0,
      "outputs": []
    },
    {
      "cell_type": "code",
      "metadata": {
        "id": "4BwiZ3dGbZev",
        "colab_type": "code",
        "colab": {}
      },
      "source": [
        "#missing value\n",
        "ibm_attrition_data.isnull().sum()"
      ],
      "execution_count": 0,
      "outputs": []
    },
    {
      "cell_type": "code",
      "metadata": {
        "id": "IcPFlsRxhV4t",
        "colab_type": "code",
        "colab": {}
      },
      "source": [
        "#creating one hot encoding for categorical feature\n",
        "categorical_features = ['Attrition','BusinessTravel','Department','EducationField','Gender','JobRole','MaritalStatus', 'OverTime', 'Over18']"
      ],
      "execution_count": 0,
      "outputs": []
    },
    {
      "cell_type": "code",
      "metadata": {
        "id": "FUNQddHviLSS",
        "colab_type": "code",
        "colab": {}
      },
      "source": [
        "Attrition_dummy = pd.get_dummies(ibm_attrition_data['Attrition'],drop_first=True, prefix='Attrition')\n",
        "\n",
        "BussinessTravel_dummy = pd.get_dummies(ibm_attrition_data['BusinessTravel'],drop_first=True, prefix='BusinessTravel')\n",
        "\n",
        "Department_dummy = pd.get_dummies(ibm_attrition_data['Department'],drop_first=True, prefix='Department')\n",
        "\n",
        "EducationField_dummy = pd.get_dummies(ibm_attrition_data['EducationField'],drop_first=True, prefix='EducationField')\n",
        "\n",
        "Gender_dummy = pd.get_dummies(ibm_attrition_data['Gender'],drop_first=True, prefix='Gender')\n",
        "\n",
        "JobRole_dummy = pd.get_dummies(ibm_attrition_data['JobRole'],drop_first=True, prefix='JobRole')\n",
        "\n",
        "MaritalStatus_dummy = pd.get_dummies(ibm_attrition_data['MaritalStatus'],drop_first=True, prefix='MaritalStatus')\n",
        "\n",
        "OverTime_dummy = pd.get_dummies(ibm_attrition_data['OverTime'],drop_first=True, prefix='OverTime')\n",
        "\n",
        "Over18_dummy = pd.get_dummies(ibm_attrition_data['Over18'],drop_first=True, prefix='Over18')\n",
        "\n"
      ],
      "execution_count": 0,
      "outputs": []
    },
    {
      "cell_type": "code",
      "metadata": {
        "id": "o24ChInfkn5h",
        "colab_type": "code",
        "colab": {}
      },
      "source": [
        "# merge all dummified categorical columns\n",
        "ibm_attrition_data = pd.concat([ibm_attrition_data,Attrition_dummy,BussinessTravel_dummy, Department_dummy,EducationField_dummy,Gender_dummy,JobRole_dummy,MaritalStatus_dummy,OverTime_dummy,Over18_dummy],1)"
      ],
      "execution_count": 0,
      "outputs": []
    },
    {
      "cell_type": "code",
      "metadata": {
        "id": "F3FavQTplVRp",
        "colab_type": "code",
        "colab": {}
      },
      "source": [
        "#delete all non dummified columns\n",
        "ibm_attrition_data =ibm_attrition_data.drop(categorical_features,axis = 1)"
      ],
      "execution_count": 0,
      "outputs": []
    },
    {
      "cell_type": "code",
      "metadata": {
        "id": "pE2LCDn5ls8q",
        "colab_type": "code",
        "outputId": "f6d6dcf6-8b10-4154-9541-37653fb01476",
        "colab": {
          "base_uri": "https://localhost:8080/",
          "height": 918
        }
      },
      "source": [
        "ibm_attrition_data.info()"
      ],
      "execution_count": 0,
      "outputs": [
        {
          "output_type": "stream",
          "text": [
            "<class 'pandas.core.frame.DataFrame'>\n",
            "RangeIndex: 1470 entries, 0 to 1469\n",
            "Data columns (total 48 columns):\n",
            "Age                                  1470 non-null int64\n",
            "DailyRate                            1470 non-null int64\n",
            "DistanceFromHome                     1470 non-null int64\n",
            "Education                            1470 non-null int64\n",
            "EmployeeCount                        1470 non-null int64\n",
            "EmployeeNumber                       1470 non-null int64\n",
            "EnvironmentSatisfaction              1470 non-null int64\n",
            "HourlyRate                           1470 non-null int64\n",
            "JobInvolvement                       1470 non-null int64\n",
            "JobLevel                             1470 non-null int64\n",
            "JobSatisfaction                      1470 non-null int64\n",
            "MonthlyIncome                        1470 non-null int64\n",
            "MonthlyRate                          1470 non-null int64\n",
            "NumCompaniesWorked                   1470 non-null int64\n",
            "PercentSalaryHike                    1470 non-null int64\n",
            "PerformanceRating                    1470 non-null int64\n",
            "RelationshipSatisfaction             1470 non-null int64\n",
            "StandardHours                        1470 non-null int64\n",
            "StockOptionLevel                     1470 non-null int64\n",
            "TotalWorkingYears                    1470 non-null int64\n",
            "TrainingTimesLastYear                1470 non-null int64\n",
            "WorkLifeBalance                      1470 non-null int64\n",
            "YearsAtCompany                       1470 non-null int64\n",
            "YearsInCurrentRole                   1470 non-null int64\n",
            "YearsSinceLastPromotion              1470 non-null int64\n",
            "YearsWithCurrManager                 1470 non-null int64\n",
            "Attrition_Yes                        1470 non-null uint8\n",
            "BusinessTravel_Travel_Frequently     1470 non-null uint8\n",
            "BusinessTravel_Travel_Rarely         1470 non-null uint8\n",
            "Department_Research & Development    1470 non-null uint8\n",
            "Department_Sales                     1470 non-null uint8\n",
            "EducationField_Life Sciences         1470 non-null uint8\n",
            "EducationField_Marketing             1470 non-null uint8\n",
            "EducationField_Medical               1470 non-null uint8\n",
            "EducationField_Other                 1470 non-null uint8\n",
            "EducationField_Technical Degree      1470 non-null uint8\n",
            "Gender_Male                          1470 non-null uint8\n",
            "JobRole_Human Resources              1470 non-null uint8\n",
            "JobRole_Laboratory Technician        1470 non-null uint8\n",
            "JobRole_Manager                      1470 non-null uint8\n",
            "JobRole_Manufacturing Director       1470 non-null uint8\n",
            "JobRole_Research Director            1470 non-null uint8\n",
            "JobRole_Research Scientist           1470 non-null uint8\n",
            "JobRole_Sales Executive              1470 non-null uint8\n",
            "JobRole_Sales Representative         1470 non-null uint8\n",
            "MaritalStatus_Married                1470 non-null uint8\n",
            "MaritalStatus_Single                 1470 non-null uint8\n",
            "OverTime_Yes                         1470 non-null uint8\n",
            "dtypes: int64(26), uint8(22)\n",
            "memory usage: 330.3 KB\n"
          ],
          "name": "stdout"
        }
      ]
    },
    {
      "cell_type": "code",
      "metadata": {
        "id": "H1vxoAjIclHm",
        "colab_type": "code",
        "colab": {}
      },
      "source": [
        "# prepare data\n",
        "X = ibm_attrition_data.drop(['Attrition_Yes'],axis=1)\n",
        "y = ibm_attrition_data.Attrition_Yes\n",
        "\n",
        "X_train, X_test, y_train, y_test = train_test_split(X, y)"
      ],
      "execution_count": 0,
      "outputs": []
    },
    {
      "cell_type": "code",
      "metadata": {
        "id": "Bk43HfrtbsLQ",
        "colab_type": "code",
        "colab": {}
      },
      "source": [
        "# train & compile model \n",
        "model = Sequential()\n",
        "model.add(Dense(16, input_dim=47, activation='relu'))\n",
        "model.add(Dense(12, activation='relu'))\n",
        "model.add(Dense(2, activation='sigmoid'))\n",
        "model.compile(loss='sparse_categorical_crossentropy', optimizer='adam', metrics=['accuracy'])\n",
        "history = model.fit(X_train, y_train, epochs=100, batch_size=64)\n"
      ],
      "execution_count": 0,
      "outputs": []
    },
    {
      "cell_type": "code",
      "metadata": {
        "id": "HjL-Bk7Jm8_g",
        "colab_type": "code",
        "outputId": "da36ec2c-294d-46a0-afab-0250dc08c65f",
        "colab": {
          "base_uri": "https://localhost:8080/",
          "height": 255
        }
      },
      "source": [
        "model.summary()"
      ],
      "execution_count": 0,
      "outputs": [
        {
          "output_type": "stream",
          "text": [
            "Model: \"sequential_4\"\n",
            "_________________________________________________________________\n",
            "Layer (type)                 Output Shape              Param #   \n",
            "=================================================================\n",
            "dense_10 (Dense)             (None, 16)                768       \n",
            "_________________________________________________________________\n",
            "dense_11 (Dense)             (None, 12)                204       \n",
            "_________________________________________________________________\n",
            "dense_12 (Dense)             (None, 2)                 26        \n",
            "=================================================================\n",
            "Total params: 998\n",
            "Trainable params: 998\n",
            "Non-trainable params: 0\n",
            "_________________________________________________________________\n"
          ],
          "name": "stdout"
        }
      ]
    },
    {
      "cell_type": "code",
      "metadata": {
        "id": "L7txsL-uo6nK",
        "colab_type": "code",
        "outputId": "879c8722-ff17-4ac9-9933-981785e5fecc",
        "colab": {
          "base_uri": "https://localhost:8080/",
          "height": 34
        }
      },
      "source": [
        "# evaluate  model\n",
        "scores = model.evaluate(X_test, y_test, verbose=0)\n",
        "print(scores)"
      ],
      "execution_count": 0,
      "outputs": [
        {
          "output_type": "stream",
          "text": [
            "[0.6931471824645996, 0.86413044]\n"
          ],
          "name": "stdout"
        }
      ]
    },
    {
      "cell_type": "code",
      "metadata": {
        "id": "TjvXdPQ5pl6w",
        "colab_type": "code",
        "colab": {}
      },
      "source": [
        "#model.save('/home/shiv/upx/folder_name/ibm_atrritoin_model')"
      ],
      "execution_count": 0,
      "outputs": []
    },
    {
      "cell_type": "code",
      "metadata": {
        "id": "6MXDbl10nXYY",
        "colab_type": "code",
        "colab": {}
      },
      "source": [
        "# model prediction\n",
        "y_pred"
      ],
      "execution_count": 0,
      "outputs": []
    }
  ]
}